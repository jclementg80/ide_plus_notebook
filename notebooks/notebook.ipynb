{
 "cells": [
  {
   "cell_type": "code",
   "execution_count": 1,
   "id": "cutting-jungle",
   "metadata": {},
   "outputs": [],
   "source": [
    "# reload package changes\n",
    "%load_ext autoreload\n",
    "%autoreload 2"
   ]
  },
  {
   "cell_type": "code",
   "execution_count": 2,
   "id": "relevant-satisfaction",
   "metadata": {},
   "outputs": [],
   "source": [
    "from my_lib.tools.tool import yo"
   ]
  },
  {
   "cell_type": "code",
   "execution_count": 3,
   "id": "framed-converter",
   "metadata": {},
   "outputs": [
    {
     "name": "stdout",
     "output_type": "stream",
     "text": [
      "hello world\n"
     ]
    }
   ],
   "source": [
    "yo()"
   ]
  },
  {
   "cell_type": "code",
   "execution_count": 5,
   "id": "former-quest",
   "metadata": {},
   "outputs": [
    {
     "name": "stdout",
     "output_type": "stream",
     "text": [
      "hello world 2\n"
     ]
    }
   ],
   "source": [
    "yo()"
   ]
  },
  {
   "cell_type": "code",
   "execution_count": null,
   "id": "least-retailer",
   "metadata": {},
   "outputs": [],
   "source": []
  }
 ],
 "metadata": {
  "kernelspec": {
   "display_name": "Python 3",
   "language": "python",
   "name": "python3"
  },
  "language_info": {
   "codemirror_mode": {
    "name": "ipython",
    "version": 3
   },
   "file_extension": ".py",
   "mimetype": "text/x-python",
   "name": "python",
   "nbconvert_exporter": "python",
   "pygments_lexer": "ipython3",
   "version": "3.9.1"
  }
 },
 "nbformat": 4,
 "nbformat_minor": 5
}
